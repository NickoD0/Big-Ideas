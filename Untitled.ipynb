{
 "cells": [
  {
   "cell_type": "code",
   "execution_count": 1,
   "metadata": {},
   "outputs": [
    {
     "name": "stdin",
     "output_type": "stream",
     "text": [
      "Hello! Please enter your name. woien\n",
      "Type in a word you want to search. you\n"
     ]
    },
    {
     "name": "stdout",
     "output_type": "stream",
     "text": [
      "Okay woien! There are 268 you's in the bee movie script!\n"
     ]
    }
   ],
   "source": [
    "bee_file = open('new_f.txt')\n",
    "w_count = 0\n",
    "name = input(prompt=\"Hello! Please enter your name.\")\n",
    "word = input(prompt=\"Type in a word you want to search.\")\n",
    "for line in bee_file:\n",
    "    if word in line:\n",
    "        w_count +=1\n",
    "        \n",
    "print(\"Okay\", name+\"! There are\", w_count, word +\"'s in the bee movie script!\")\n",
    "    "
   ]
  },
  {
   "cell_type": "code",
   "execution_count": null,
   "metadata": {},
   "outputs": [],
   "source": []
  }
 ],
 "metadata": {
  "kernelspec": {
   "display_name": "Python 3",
   "language": "python",
   "name": "python3"
  },
  "language_info": {
   "codemirror_mode": {
    "name": "ipython",
    "version": 3
   },
   "file_extension": ".py",
   "mimetype": "text/x-python",
   "name": "python",
   "nbconvert_exporter": "python",
   "pygments_lexer": "ipython3",
   "version": "3.8.3"
  }
 },
 "nbformat": 4,
 "nbformat_minor": 4
}
